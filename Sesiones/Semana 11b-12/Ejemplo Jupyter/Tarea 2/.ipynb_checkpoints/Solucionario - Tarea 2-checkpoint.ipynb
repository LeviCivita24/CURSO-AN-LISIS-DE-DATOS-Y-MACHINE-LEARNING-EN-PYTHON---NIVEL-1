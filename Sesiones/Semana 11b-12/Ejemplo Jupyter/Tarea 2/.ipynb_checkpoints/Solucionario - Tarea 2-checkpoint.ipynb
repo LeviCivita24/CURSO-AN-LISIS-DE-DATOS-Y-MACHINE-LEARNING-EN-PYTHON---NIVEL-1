{
 "cells": [
  {
   "cell_type": "markdown",
   "metadata": {
    "id": "WVsfGRXI6e43"
   },
   "source": [
    "### <font color='green'>**Tarea 2** </font>\n",
    "\n",
    "1. (0.5) Cargue de la base de datos *Noticias.csv* los primeros 200 reportes.\n",
    "2. (0.5) Cambie el nombre de las columnas a $Nit$, $ID$, $URL$, $Fecha\\ Inicial$, $Fecha\\ Final$.\n",
    "3. (0.5) Eliminar el $news$ de la columna $ID$.\n",
    "4. (0.5) Organice las fechas para que queden en un formato $DD/MM/AAAA$.\n",
    "5. (1.0) Cree un nueva columna con la duración por días de cada noticia.\n",
    "6. (1.0) Cree una columna para el nombre de la revista y otra para el dominio. Llénelas como corresponde.\n",
    "7. (0.5) Organice las columnas en el orden $Nit$, $ID$, $Revista$, $Dominio$, $Fecha\\ Inicial$, $Fecha\\ Final$, $Duración$, $URL$.\n",
    "8. (1.0) Cree una tabla con noticias que tengan un dominio que no pertenece a ningún país y que inicien en julio y terminen en agosto.\n",
    "9. (0.5) Cree un archivo Excel donde guarde la información en diferentes hojas según cada revista.\n",
    "\n",
    "**Nota Final:** 6.0\n",
    "\n",
    "***Ayuda 1:*** Puede que le sean útiles los atributos $columns$ y $loc$.  \n",
    "***Ayuda 2:*** Puede que necesite crear su propias funciones.    \n",
    "***Ayuda 3:*** Puede que le sea útil el método $apply$.   \n",
    "***Ayuda 4:*** Puede que le sea útil el método $datetime$ de la librería $datetime$. Consulte.    \n",
    "***Ayuda 5:*** Puede que le sean útiles los ciclos $for$.  \n",
    "***Ayuda 6:*** Puede que le sean útiles los métodos de los Strings.  \n",
    "***Ayuda 7:*** Recuerde los métodos $groupby$, $get\\_group$ y $ExcelWriter$.   \n",
    "***Ayuda 8:*** Hay 13 revistas diferentes.   \n",
    "***Ayuda 9:*** Hay 7 dominios diferentes.   "
   ]
  },
  {
   "cell_type": "markdown",
   "metadata": {
    "id": "54BcrAPQMnlm"
   },
   "source": [
    "1. Cargue de la base de datos *Noticias.csv* los primeros 200 reportes."
   ]
  },
  {
   "cell_type": "code",
   "execution_count": 1,
   "metadata": {
    "id": "bhx3cbRt5-hU"
   },
   "outputs": [],
   "source": [
    "from datetime import datetime\n",
    "import pandas as pd"
   ]
  },
  {
   "cell_type": "code",
   "execution_count": 2,
   "metadata": {
    "id": "FwpCx_WF7jDV"
   },
   "outputs": [
    {
     "data": {
      "text/html": [
       "<div>\n",
       "<style scoped>\n",
       "    .dataframe tbody tr th:only-of-type {\n",
       "        vertical-align: middle;\n",
       "    }\n",
       "\n",
       "    .dataframe tbody tr th {\n",
       "        vertical-align: top;\n",
       "    }\n",
       "\n",
       "    .dataframe thead th {\n",
       "        text-align: right;\n",
       "    }\n",
       "</style>\n",
       "<table border=\"1\" class=\"dataframe\">\n",
       "  <thead>\n",
       "    <tr style=\"text-align: right;\">\n",
       "      <th></th>\n",
       "      <th>nit</th>\n",
       "      <th>news_id</th>\n",
       "      <th>news_url_absolute</th>\n",
       "      <th>news_init_date</th>\n",
       "      <th>news_final_date</th>\n",
       "    </tr>\n",
       "  </thead>\n",
       "  <tbody>\n",
       "    <tr>\n",
       "      <th>0</th>\n",
       "      <td>900378212</td>\n",
       "      <td>news10006</td>\n",
       "      <td>https://www.bluradio.com/economia/precio-dolar...</td>\n",
       "      <td>2022-07-30</td>\n",
       "      <td>2022-08-14</td>\n",
       "    </tr>\n",
       "    <tr>\n",
       "      <th>1</th>\n",
       "      <td>900378212</td>\n",
       "      <td>news10011</td>\n",
       "      <td>https://www.semana.com/economia/macroeconomia/...</td>\n",
       "      <td>2022-07-30</td>\n",
       "      <td>2022-08-14</td>\n",
       "    </tr>\n",
       "    <tr>\n",
       "      <th>2</th>\n",
       "      <td>860034313</td>\n",
       "      <td>news10011</td>\n",
       "      <td>https://www.semana.com/economia/macroeconomia/...</td>\n",
       "      <td>2022-07-30</td>\n",
       "      <td>2022-08-14</td>\n",
       "    </tr>\n",
       "    <tr>\n",
       "      <th>3</th>\n",
       "      <td>900378212</td>\n",
       "      <td>news10015</td>\n",
       "      <td>https://elcomercio.pe/respuestas/que/gustavo-p...</td>\n",
       "      <td>2022-07-30</td>\n",
       "      <td>2022-08-14</td>\n",
       "    </tr>\n",
       "    <tr>\n",
       "      <th>4</th>\n",
       "      <td>900166896</td>\n",
       "      <td>news10015</td>\n",
       "      <td>https://elcomercio.pe/respuestas/que/gustavo-p...</td>\n",
       "      <td>2022-07-30</td>\n",
       "      <td>2022-08-14</td>\n",
       "    </tr>\n",
       "  </tbody>\n",
       "</table>\n",
       "</div>"
      ],
      "text/plain": [
       "         nit    news_id                                  news_url_absolute  \\\n",
       "0  900378212  news10006  https://www.bluradio.com/economia/precio-dolar...   \n",
       "1  900378212  news10011  https://www.semana.com/economia/macroeconomia/...   \n",
       "2  860034313  news10011  https://www.semana.com/economia/macroeconomia/...   \n",
       "3  900378212  news10015  https://elcomercio.pe/respuestas/que/gustavo-p...   \n",
       "4  900166896  news10015  https://elcomercio.pe/respuestas/que/gustavo-p...   \n",
       "\n",
       "  news_init_date news_final_date  \n",
       "0     2022-07-30      2022-08-14  \n",
       "1     2022-07-30      2022-08-14  \n",
       "2     2022-07-30      2022-08-14  \n",
       "3     2022-07-30      2022-08-14  \n",
       "4     2022-07-30      2022-08-14  "
      ]
     },
     "execution_count": 2,
     "metadata": {},
     "output_type": "execute_result"
    }
   ],
   "source": [
    "df = pd.read_csv('../Datos/Noticias.csv')\n",
    "df = df.loc[:199, :]\n",
    "df.head(5)"
   ]
  },
  {
   "cell_type": "code",
   "execution_count": 3,
   "metadata": {
    "id": "LSHIyMA3Gxcs"
   },
   "outputs": [],
   "source": [
    "#df = df.head(200)\n",
    "#df = pd.read_csv('Noticias.csv', nrows=200)"
   ]
  },
  {
   "cell_type": "markdown",
   "metadata": {
    "id": "bk4xfnbeMwft"
   },
   "source": [
    "2. Cambie el nombre de las columnas a $Nit$, $ID$, $URL$, $Fecha\\ Inicial$, $Fecha\\ Final$."
   ]
  },
  {
   "cell_type": "code",
   "execution_count": 4,
   "metadata": {
    "id": "5uEni7es7_Ul"
   },
   "outputs": [],
   "source": [
    "df.columns = ['Nit','ID','URL','Fecha Inicial', 'Fecha Final']"
   ]
  },
  {
   "cell_type": "markdown",
   "metadata": {
    "id": "U3bm-P_6M8oD"
   },
   "source": [
    "3. Eliminar el $news$ de la columna $ID$."
   ]
  },
  {
   "cell_type": "code",
   "execution_count": 5,
   "metadata": {
    "id": "xeXkeYVH8RpG"
   },
   "outputs": [],
   "source": [
    "df.loc[:,'ID'] = df.loc[:,'ID'].str.replace('news','')"
   ]
  },
  {
   "cell_type": "code",
   "execution_count": 6,
   "metadata": {},
   "outputs": [],
   "source": [
    "#def quitar_news(palabra): return palabra.replace('news','')\n",
    "#df.loc[:,'ID'] = df.loc[:,'ID'].apply(quitar_news)"
   ]
  },
  {
   "cell_type": "markdown",
   "metadata": {
    "id": "HyccFaNJM-lV"
   },
   "source": [
    "4. Organice las fechas para que queden en un formato $DD/MM/AAAA$."
   ]
  },
  {
   "cell_type": "code",
   "execution_count": 7,
   "metadata": {
    "id": "14CwmAH6NLfy"
   },
   "outputs": [],
   "source": [
    "def fecha_DDMMAAAA(fecha):\n",
    "    fecha = fecha.split('-') #2022-07-30 --> [2022,07,30]\n",
    "    fecha = fecha[2]+'/'+fecha[1]+'/'+fecha[0]\n",
    "    return fecha"
   ]
  },
  {
   "cell_type": "code",
   "execution_count": 8,
   "metadata": {
    "id": "RjEnN9hQNH8t"
   },
   "outputs": [],
   "source": [
    "df.loc[:,'Fecha Inicial'] = df.loc[:,'Fecha Inicial'].apply(fecha_DDMMAAAA)\n",
    "df.loc[:,'Fecha Final'] = df.loc[:,'Fecha Final'].apply(fecha_DDMMAAAA)"
   ]
  },
  {
   "cell_type": "code",
   "execution_count": 9,
   "metadata": {},
   "outputs": [],
   "source": [
    "#df['Fecha Inicial'] = pd.to_datetime(df['Fecha Inicial']).dt.strftime('%d/%m/%Y')\n",
    "#df['Fecha Final'] = pd.to_datetime(df['Fecha Final']).dt.strftime('%d/%m/%Y') \n",
    "#df.head(5)"
   ]
  },
  {
   "cell_type": "markdown",
   "metadata": {
    "id": "1hwcauiUNIUp"
   },
   "source": [
    "5. Cree un nueva columna con la duración por días de cada noticia."
   ]
  },
  {
   "cell_type": "code",
   "execution_count": 10,
   "metadata": {
    "id": "bPQCM-NxNYFp"
   },
   "outputs": [],
   "source": [
    "def fecha_dias(fecha_1,fecha_2):\n",
    "    fecha_1 = datetime.strptime(fecha_1,'%d/%m/%Y') #'%d/%m/%Y' - '%Y/%m/%d'\n",
    "    fecha_2 = datetime.strptime(fecha_2,'%d/%m/%Y')\n",
    "    dias = (fecha_2-fecha_1).days\n",
    "    return dias"
   ]
  },
  {
   "cell_type": "code",
   "execution_count": 11,
   "metadata": {
    "id": "UhQql0lXNVpL"
   },
   "outputs": [],
   "source": [
    "df.loc[:,'Duración'] = [fecha_dias(df.loc[i,'Fecha Inicial'],df.loc[i,'Fecha Final']) for i in range(df.shape[0])]"
   ]
  },
  {
   "cell_type": "code",
   "execution_count": 12,
   "metadata": {},
   "outputs": [],
   "source": [
    "#df.loc[:, 'Duración'] = pd.to_datetime(df.loc[:, 'Fecha Final']) - pd.to_datetime(df.loc[:, 'Fecha Inicial'])\n",
    "#df"
   ]
  },
  {
   "cell_type": "markdown",
   "metadata": {
    "id": "i-2LLuzmNVyV"
   },
   "source": [
    "6. Cree una columna para el nombre de la revista y otra para la extrensión de dominio. Llénelas como corresponde."
   ]
  },
  {
   "cell_type": "code",
   "execution_count": 13,
   "metadata": {
    "id": "xT5TUyzFNkN5"
   },
   "outputs": [],
   "source": [
    "def revista_dominio(url):\n",
    "    url = url.split('/')[2] #www.bluradio.com\n",
    "    url = url.split('.') #['www','bluradio','com'] - ['elcomercio','pe'] - ['www','laopinion','com','co'] - ['laopinion','com','co']\n",
    "    revista = max(url, key=len) #'bluradio' (abs, bbc, 123)\n",
    "    dominio = url[-1] #'com'\n",
    "    return revista,dominio"
   ]
  },
  {
   "cell_type": "code",
   "execution_count": 14,
   "metadata": {},
   "outputs": [],
   "source": [
    "#url = 'https://www.bluradio.com/economia/precio-dolar'\n",
    " \n",
    "#print(url.split('/'))    \n",
    "#print(url.split('/')[2])\n",
    "#url = url.split('/')[2]\n",
    "#print(url.split('.'))"
   ]
  },
  {
   "cell_type": "code",
   "execution_count": 15,
   "metadata": {
    "id": "s42Wlbwn9Bxs"
   },
   "outputs": [],
   "source": [
    "i = 0\n",
    "for url in df.loc[:,'URL']:\n",
    "    revista, dominio = revista_dominio(url)\n",
    "    df.loc[i,'Revista'] = revista.title()\n",
    "    df.loc[i,'Dominio'] = dominio\n",
    "    i = i+1"
   ]
  },
  {
   "cell_type": "markdown",
   "metadata": {
    "id": "JBE37Z3kN3YQ"
   },
   "source": [
    "7. Organice las columnas en el orden $Nit$, $ID$, $Revista$, $Dominio$, $Fecha\\ Inicial$, $Fecha\\ Final$, $Duración$, $URL$."
   ]
  },
  {
   "cell_type": "code",
   "execution_count": 16,
   "metadata": {
    "id": "vLQNbBODEqjs"
   },
   "outputs": [],
   "source": [
    "df = df.loc[:, ['Nit','ID','Revista','Dominio','Fecha Inicial','Fecha Final','Duración','URL']]"
   ]
  },
  {
   "cell_type": "markdown",
   "metadata": {
    "id": "1QO4iCeeOKcN"
   },
   "source": [
    "8. Cree una tabla con noticias que tengan un dominio que no pertenece a ningún país y que inicien en julio y terminen en agosto."
   ]
  },
  {
   "cell_type": "code",
   "execution_count": 17,
   "metadata": {
    "id": "PPWOrLu18wiA"
   },
   "outputs": [],
   "source": [
    "cond1 = df.loc[:, 'Dominio'] == 'com'\n",
    "cond2 = (df.loc[:, 'Fecha Inicial'].str.contains('/07/')) & (df.loc[:, 'Fecha Final'].str.contains('/08/'))\n",
    "cond = cond1 & cond2\n",
    "df3 = df.loc[cond, :]"
   ]
  },
  {
   "cell_type": "markdown",
   "metadata": {
    "id": "hd2n20hKOipu"
   },
   "source": [
    "9. Cree un archivo Excel donde guarde la información en diferentes hojas según cada revista."
   ]
  },
  {
   "cell_type": "code",
   "execution_count": 18,
   "metadata": {
    "id": "i2uZTyI-9vaY"
   },
   "outputs": [],
   "source": [
    "df1 = df.groupby(['Revista'])\n",
    "archivo = pd.ExcelWriter('../Datos/Revistas.xlsx')\n",
    "nombres = list(set(df.loc[:, 'Revista']))\n",
    "\n",
    "for nombre in nombres:\n",
    "    df2 = df1.get_group(nombre)\n",
    "    df2.to_excel(archivo, sheet_name=nombre, index=False)\n",
    "\n",
    "archivo.close()"
   ]
  },
  {
   "cell_type": "markdown",
   "metadata": {
    "id": "nY9Cv-QCOx5_"
   },
   "source": [
    "Visualización Final:"
   ]
  },
  {
   "cell_type": "code",
   "execution_count": 19,
   "metadata": {
    "colab": {
     "base_uri": "https://localhost:8080/",
     "height": 423
    },
    "executionInfo": {
     "elapsed": 213,
     "status": "ok",
     "timestamp": 1692823630498,
     "user": {
      "displayName": "JUAN CAMILO ZAPATA CEBALLOS",
      "userId": "10232445081906986625"
     },
     "user_tz": 300
    },
    "id": "vgQd-seiGgG8",
    "outputId": "c26dc10d-cc46-4509-c3ca-01ef1620bf15"
   },
   "outputs": [
    {
     "data": {
      "text/html": [
       "<div>\n",
       "<style scoped>\n",
       "    .dataframe tbody tr th:only-of-type {\n",
       "        vertical-align: middle;\n",
       "    }\n",
       "\n",
       "    .dataframe tbody tr th {\n",
       "        vertical-align: top;\n",
       "    }\n",
       "\n",
       "    .dataframe thead th {\n",
       "        text-align: right;\n",
       "    }\n",
       "</style>\n",
       "<table border=\"1\" class=\"dataframe\">\n",
       "  <thead>\n",
       "    <tr style=\"text-align: right;\">\n",
       "      <th></th>\n",
       "      <th>Nit</th>\n",
       "      <th>ID</th>\n",
       "      <th>Revista</th>\n",
       "      <th>Dominio</th>\n",
       "      <th>Fecha Inicial</th>\n",
       "      <th>Fecha Final</th>\n",
       "      <th>Duración</th>\n",
       "      <th>URL</th>\n",
       "    </tr>\n",
       "  </thead>\n",
       "  <tbody>\n",
       "    <tr>\n",
       "      <th>0</th>\n",
       "      <td>900378212</td>\n",
       "      <td>10006</td>\n",
       "      <td>Bluradio</td>\n",
       "      <td>com</td>\n",
       "      <td>30/07/2022</td>\n",
       "      <td>14/08/2022</td>\n",
       "      <td>15</td>\n",
       "      <td>https://www.bluradio.com/economia/precio-dolar...</td>\n",
       "    </tr>\n",
       "    <tr>\n",
       "      <th>1</th>\n",
       "      <td>900378212</td>\n",
       "      <td>10011</td>\n",
       "      <td>Semana</td>\n",
       "      <td>com</td>\n",
       "      <td>30/07/2022</td>\n",
       "      <td>14/08/2022</td>\n",
       "      <td>15</td>\n",
       "      <td>https://www.semana.com/economia/macroeconomia/...</td>\n",
       "    </tr>\n",
       "    <tr>\n",
       "      <th>2</th>\n",
       "      <td>860034313</td>\n",
       "      <td>10011</td>\n",
       "      <td>Semana</td>\n",
       "      <td>com</td>\n",
       "      <td>30/07/2022</td>\n",
       "      <td>14/08/2022</td>\n",
       "      <td>15</td>\n",
       "      <td>https://www.semana.com/economia/macroeconomia/...</td>\n",
       "    </tr>\n",
       "    <tr>\n",
       "      <th>3</th>\n",
       "      <td>900378212</td>\n",
       "      <td>10015</td>\n",
       "      <td>Elcomercio</td>\n",
       "      <td>pe</td>\n",
       "      <td>30/07/2022</td>\n",
       "      <td>14/08/2022</td>\n",
       "      <td>15</td>\n",
       "      <td>https://elcomercio.pe/respuestas/que/gustavo-p...</td>\n",
       "    </tr>\n",
       "    <tr>\n",
       "      <th>4</th>\n",
       "      <td>900166896</td>\n",
       "      <td>10015</td>\n",
       "      <td>Elcomercio</td>\n",
       "      <td>pe</td>\n",
       "      <td>30/07/2022</td>\n",
       "      <td>14/08/2022</td>\n",
       "      <td>15</td>\n",
       "      <td>https://elcomercio.pe/respuestas/que/gustavo-p...</td>\n",
       "    </tr>\n",
       "    <tr>\n",
       "      <th>...</th>\n",
       "      <td>...</td>\n",
       "      <td>...</td>\n",
       "      <td>...</td>\n",
       "      <td>...</td>\n",
       "      <td>...</td>\n",
       "      <td>...</td>\n",
       "      <td>...</td>\n",
       "      <td>...</td>\n",
       "    </tr>\n",
       "    <tr>\n",
       "      <th>195</th>\n",
       "      <td>860090915</td>\n",
       "      <td>10112</td>\n",
       "      <td>Bnamericas</td>\n",
       "      <td>com</td>\n",
       "      <td>15/07/2022</td>\n",
       "      <td>30/07/2022</td>\n",
       "      <td>15</td>\n",
       "      <td>https://www.bnamericas.com/es/noticias/ecuador...</td>\n",
       "    </tr>\n",
       "    <tr>\n",
       "      <th>196</th>\n",
       "      <td>890300431</td>\n",
       "      <td>10112</td>\n",
       "      <td>Bnamericas</td>\n",
       "      <td>com</td>\n",
       "      <td>15/07/2022</td>\n",
       "      <td>30/07/2022</td>\n",
       "      <td>15</td>\n",
       "      <td>https://www.bnamericas.com/es/noticias/ecuador...</td>\n",
       "    </tr>\n",
       "    <tr>\n",
       "      <th>197</th>\n",
       "      <td>860051135</td>\n",
       "      <td>10115</td>\n",
       "      <td>Eldiarioar</td>\n",
       "      <td>com</td>\n",
       "      <td>15/07/2022</td>\n",
       "      <td>30/07/2022</td>\n",
       "      <td>15</td>\n",
       "      <td>https://www.eldiarioar.com/economia/washington...</td>\n",
       "    </tr>\n",
       "    <tr>\n",
       "      <th>198</th>\n",
       "      <td>900628110</td>\n",
       "      <td>10116</td>\n",
       "      <td>Laopinion</td>\n",
       "      <td>co</td>\n",
       "      <td>30/07/2022</td>\n",
       "      <td>14/08/2022</td>\n",
       "      <td>15</td>\n",
       "      <td>https://www.laopinion.com.co/politica/11-jefes...</td>\n",
       "    </tr>\n",
       "    <tr>\n",
       "      <th>199</th>\n",
       "      <td>817000747</td>\n",
       "      <td>10116</td>\n",
       "      <td>Laopinion</td>\n",
       "      <td>co</td>\n",
       "      <td>30/07/2022</td>\n",
       "      <td>14/08/2022</td>\n",
       "      <td>15</td>\n",
       "      <td>https://www.laopinion.com.co/politica/11-jefes...</td>\n",
       "    </tr>\n",
       "  </tbody>\n",
       "</table>\n",
       "<p>200 rows × 8 columns</p>\n",
       "</div>"
      ],
      "text/plain": [
       "           Nit     ID     Revista Dominio Fecha Inicial Fecha Final  Duración  \\\n",
       "0    900378212  10006    Bluradio     com    30/07/2022  14/08/2022        15   \n",
       "1    900378212  10011      Semana     com    30/07/2022  14/08/2022        15   \n",
       "2    860034313  10011      Semana     com    30/07/2022  14/08/2022        15   \n",
       "3    900378212  10015  Elcomercio      pe    30/07/2022  14/08/2022        15   \n",
       "4    900166896  10015  Elcomercio      pe    30/07/2022  14/08/2022        15   \n",
       "..         ...    ...         ...     ...           ...         ...       ...   \n",
       "195  860090915  10112  Bnamericas     com    15/07/2022  30/07/2022        15   \n",
       "196  890300431  10112  Bnamericas     com    15/07/2022  30/07/2022        15   \n",
       "197  860051135  10115  Eldiarioar     com    15/07/2022  30/07/2022        15   \n",
       "198  900628110  10116   Laopinion      co    30/07/2022  14/08/2022        15   \n",
       "199  817000747  10116   Laopinion      co    30/07/2022  14/08/2022        15   \n",
       "\n",
       "                                                   URL  \n",
       "0    https://www.bluradio.com/economia/precio-dolar...  \n",
       "1    https://www.semana.com/economia/macroeconomia/...  \n",
       "2    https://www.semana.com/economia/macroeconomia/...  \n",
       "3    https://elcomercio.pe/respuestas/que/gustavo-p...  \n",
       "4    https://elcomercio.pe/respuestas/que/gustavo-p...  \n",
       "..                                                 ...  \n",
       "195  https://www.bnamericas.com/es/noticias/ecuador...  \n",
       "196  https://www.bnamericas.com/es/noticias/ecuador...  \n",
       "197  https://www.eldiarioar.com/economia/washington...  \n",
       "198  https://www.laopinion.com.co/politica/11-jefes...  \n",
       "199  https://www.laopinion.com.co/politica/11-jefes...  \n",
       "\n",
       "[200 rows x 8 columns]"
      ]
     },
     "execution_count": 19,
     "metadata": {},
     "output_type": "execute_result"
    }
   ],
   "source": [
    "df"
   ]
  },
  {
   "cell_type": "code",
   "execution_count": 20,
   "metadata": {},
   "outputs": [],
   "source": [
    "import matplotlib.pyplot as plt\n",
    "import seaborn as sns"
   ]
  },
  {
   "cell_type": "code",
   "execution_count": 21,
   "metadata": {},
   "outputs": [
    {
     "data": {
      "image/png": "[encoded data removed]",
      "text/plain": [
       "<Figure size 300x300 with 1 Axes>"
      ]
     },
     "metadata": {},
     "output_type": "display_data"
    }
   ],
   "source": [
    "fig, ax = plt.subplots(1,1, figsize=(3,3))\n",
    "sns.histplot(data=df3, x='Revista')\n",
    "plt.show()"
   ]
  },
  {
   "cell_type": "code",
   "execution_count": 22,
   "metadata": {},
   "outputs": [],
   "source": [
    "fig.savefig('../Figuras/Figura_1.pdf')"
   ]
  }
 ],
 "metadata": {
  "colab": {
   "authorship_tag": "ABX9TyMy2rzp+8PFHVt3ATxc6afw",
   "provenance": []
  },
  "kernelspec": {
   "display_name": "Python 3 (ipykernel)",
   "language": "python",
   "name": "python3"
  },
  "language_info": {
   "codemirror_mode": {
    "name": "ipython",
    "version": 3
   },
   "file_extension": ".py",
   "mimetype": "text/x-python",
   "name": "python",
   "nbconvert_exporter": "python",
   "pygments_lexer": "ipython3",
   "version": "3.11.5"
  }
 },
 "nbformat": 4,
 "nbformat_minor": 1
}
